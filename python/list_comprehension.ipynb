{
 "cells": [
  {
   "cell_type": "markdown",
   "metadata": {},
   "source": [
    "# Генератор списков (List comprehension)\n",
    "\n",
    "## Создание списка без использования List comprehension\n",
    "\n",
    "Представьте, что Вам необходимо создать список, содержащий 8 случайных чисел от 1 до 100 каждое.\n",
    "\n",
    "_Пример 1_\n",
    "```\n",
    "[13, 25, 8, 78, 16, 67, 1, 99]\n",
    "```\n",
    "_Пример 2_\n",
    "```\n",
    "[3, 28, 33, 100, 90, 16, 85, 48]\n",
    "```\n",
    "\n",
    "Ниже представлен вариант решения данной задачи:\n"
   ]
  },
  {
   "cell_type": "code",
   "execution_count": null,
   "metadata": {},
   "outputs": [],
   "source": [
    "from random import randint\n",
    "\n",
    "numbers = []\n",
    "for i in range(8):    \n",
    "    numbers.append(randint(1, 100))\n",
    "\n",
    "print(numbers)"
   ]
  },
  {
   "cell_type": "markdown",
   "metadata": {},
   "source": [
    "\n",
    "Рассмотрим представленный код построчно.\n",
    "\n",
    "**1.** Импортируем функцию `randint` из модуля `random`: \n",
    "\n",
    "```python\n",
    "from random import randint\n",
    "```\n",
    "Эта функция необходима для генерации случайных чисел, она не является встроенной (в отличие от `print()`, `len()` и т.д.), её нужно импортировать. Модуль `random` входит в стандартную библиотеку Питона, его не требуется устанавливать дополнительно.\n",
    "\n",
    "**2.** Создаем пустой список и присваиваем его переменной `numbers`\n",
    "```python\n",
    "numbers = []\n",
    "```\n",
    "В этот список будут помещаться генерируемые случайные числа\n",
    "\n",
    "**3.** Рассмотрим пошагово код для добавления в список `numbers` 8 случайных чисел:\n",
    "\n",
    "```python\n",
    "for i in range(8):    \n",
    "    numbers.append(randint(1, 100))\n",
    "```\n",
    "  3.1. Чтобы сгенерировать случайное число от 1 до 100, вызываем функцию `randint`:\n",
    "\n",
    "```python\n",
    "randint(1, 100)\n",
    "```\n",
    "  3.2. Получившийся результат добавляем в список `numbers`, используя метод `.append()`:\n",
    "\n",
    "```python\n",
    "numbers.append(randint(1, 100))\n",
    "```\n",
    "  3.3. Повторяем эту операцию 8 раз (цикл `for`, в котором тело цикла выполняется для каждого элемента диапазона `range`):\n",
    "\n",
    "```python\n",
    "for i in range(8):    \n",
    "    numbers.append(randint(1, 100))\n",
    "```\n",
    "\n",
    "## Создание списка с использованием List comprehension\n",
    "\n",
    "Python позволяет реализовать рассмотренную выше задачу в одну строку (не считая строки импорта):\n",
    "\n",
    "```python \n",
    "from random import randint\n",
    "\n",
    "numbers = [randint(1, 100) for i in range(1, 100)]\n",
    "```\n",
    "\n",
    "## Другие примеры\n",
    "\n",
    "Имеется список `names`, содержащий имена. Необходимо создать список `first_letters`, элементами которого будут первые буквы имен из списка `names`.\n",
    "\n",
    "_Пример:_\n",
    "\n",
    "Список `names` содержит 5 имён:\n",
    "```python\n",
    "names = ['Анна', 'Ева', 'Ян', 'Юлия']\n",
    "```\n",
    "Необходимо получить следующий список:\n",
    "```python\n",
    "['А', 'Е', 'Я', 'Ю']\n",
    "```"
   ]
  },
  {
   "cell_type": "markdown",
   "metadata": {},
   "source": []
  }
 ],
 "metadata": {
  "kernelspec": {
   "display_name": "Python 3.10.5 64-bit",
   "language": "python",
   "name": "python3"
  },
  "language_info": {
   "codemirror_mode": {
    "name": "ipython",
    "version": 3
   },
   "file_extension": ".py",
   "mimetype": "text/x-python",
   "name": "python",
   "nbconvert_exporter": "python",
   "pygments_lexer": "ipython3",
   "version": "3.10.5"
  },
  "orig_nbformat": 4,
  "vscode": {
   "interpreter": {
    "hash": "afb734500600fd355917ca529030176ea0ca205570884b88f2f6f7d791fd3fbe"
   }
  }
 },
 "nbformat": 4,
 "nbformat_minor": 2
}
