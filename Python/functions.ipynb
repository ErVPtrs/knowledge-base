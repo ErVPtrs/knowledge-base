{
 "cells": [
  {
   "cell_type": "markdown",
   "metadata": {},
   "source": [
    "### `int()` - integer - целое число"
   ]
  },
  {
   "cell_type": "code",
   "execution_count": null,
   "metadata": {},
   "outputs": [],
   "source": [
    "# Создать экзмепляр класса int (объект integer)\n",
    "int()"
   ]
  },
  {
   "cell_type": "code",
   "execution_count": null,
   "metadata": {},
   "outputs": [],
   "source": [
    "# Создать экземпляр класса int на основе строки, содержащей цифры\n",
    "# Преобразование объекта str (string - строка) в объект int (integer - целое число)\n",
    "int(\"345\")"
   ]
  },
  {
   "cell_type": "code",
   "execution_count": null,
   "metadata": {},
   "outputs": [],
   "source": [
    "# Код ниже вызовет ошибку, т.к. строка содержит недопустимые символы\n",
    "# Строка должна содержать только цифры! (если число 10-ное)\n",
    "int(\"5.345\")"
   ]
  },
  {
   "cell_type": "code",
   "execution_count": null,
   "metadata": {},
   "outputs": [],
   "source": [
    "# Создать экземпляр класса int на основе вещественного числа (числа с плавающей точкой)\n",
    "# Преобразование объекта float (вещественное число) в объект int (integer - целое число)\n",
    "int(5.345)"
   ]
  },
  {
   "cell_type": "code",
   "execution_count": null,
   "metadata": {},
   "outputs": [],
   "source": [
    "# Создать экземпляр класса int (целое число) на основе булевого значение (True или False)\n",
    "one = int(True)\n",
    "two = int(False)\n",
    "print(\"Значение переменной one\", one)\n",
    "print(\"Значение переменной two\", two)"
   ]
  }
 ],
 "metadata": {
  "kernelspec": {
   "display_name": "Python 3.10.4 64-bit",
   "language": "python",
   "name": "python3"
  },
  "language_info": {
   "codemirror_mode": {
    "name": "ipython",
    "version": 3
   },
   "file_extension": ".py",
   "mimetype": "text/x-python",
   "name": "python",
   "nbconvert_exporter": "python",
   "pygments_lexer": "ipython3",
   "version": "3.10.4"
  },
  "orig_nbformat": 4,
  "vscode": {
   "interpreter": {
    "hash": "aee8b7b246df8f9039afb4144a1f6fd8d2ca17a180786b69acc140d282b71a49"
   }
  }
 },
 "nbformat": 4,
 "nbformat_minor": 2
}
